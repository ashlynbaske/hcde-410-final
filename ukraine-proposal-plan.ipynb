{
 "cells": [
  {
   "cell_type": "markdown",
   "id": "f9e84c1d-9c99-4ad4-bb8f-2667762111ad",
   "metadata": {},
   "source": [
    "<h1>Ukraine Project: Preliminary Proposal and Project Plan"
   ]
  },
  {
   "cell_type": "markdown",
   "id": "79a99d23-40eb-43ed-bcac-3e7f76438478",
   "metadata": {},
   "source": [
    "*Ashlyn B. Aske, HCDE410*"
   ]
  },
  {
   "cell_type": "markdown",
   "id": "ec1e0918-cf8f-46e5-856d-70a515c7be8e",
   "metadata": {},
   "source": [
    "<h2>Preliminary Proposal</h2>"
   ]
  },
  {
   "cell_type": "markdown",
   "id": "87fe822a-ebf8-4430-ab70-cb7318b9a500",
   "metadata": {},
   "source": [
    "<h3>Problem Statement and Motivation</h3>"
   ]
  },
  {
   "cell_type": "markdown",
   "id": "ad2afb02-9314-4d6d-8b26-607ec02dde96",
   "metadata": {},
   "source": [
    "**Idea** Investigate how the Russian government uses disinformation in the Russia-Ukraine war/conflict and the events leading up to it. <br>\n",
    "<br>\n",
    "**Why are you planning to do this analysis?** I have recently been following the Russia-Ukraine news very closely since I plan to travel to Europe in the summer, and also because I find international conflicts and affairs interesting. I have also been learning a lot about disinformation in my DRG (and HCDE courses overall), so this is a good opportunity to combine these two interests.  <br>\n",
    "<br>\n",
    "**Why is it potentially interesting and useful, from a scientific, practical, and/or human-centered perspective?** Based on my historical knowledge, I know that propaganda has been a part of war efforts in the past. In present day conflicts, widespread usage of the internet and social media can be used to spread propaganda much faster, through the dispersion of disinformation. Since Ukraine & Russia are currently at war, it is useful for international populations to understand how the spread of disinformation is (or is not) related to the Russian war effort. <br>\n",
    "<br>\n",
    "**What do you hope to learn?** I hope to learn how the volume of pro-Kremlin disinformation has changed alongside the timeline of conflicts between Russia and Ukraine. <br>\n",
    "<br>\n",
    "**Note from peer feedback** My peers Cato and Arissa suggested that I focus on/at least use some numeric data because String data can be hard to parse and analyze, and very slow to work with on my original project, so I am still keeping that feedback in mind for this back up plan project."
   ]
  },
  {
   "cell_type": "markdown",
   "id": "4e1d949b-722d-4d9e-9177-7126c4293af4",
   "metadata": {},
   "source": [
    "<h3> Data Selected for Analysis: EUvsDisinfo Project"
   ]
  },
  {
   "cell_type": "markdown",
   "id": "cc2e9394-2eb4-451f-8080-769415114139",
   "metadata": {},
   "source": [
    "**What dataset do you plan to use, and why?** EUvsDisinfo Dataset, specifically the results for search \"about Ukraine.\" This produces at least 5000 results of different articles or disinformation cases in which there is pro-Kremlin propaganda in reference to Ukraine. <br> \n",
    "<br>\n",
    "**Summarize what is represented in the dataset:** The dataset contains disinformation cases, which may be news articles, social media posts, or other types of media. For each disinformation case, there are fields for case title, date, language, publication edition, publisher, article language, countries mentioned, and a short summary of the case. <br>\n",
    "<br>\n",
    "**Link to the dataset (it must be publicly available):**  https://euvsdisinfo.eu/disinformation-cases/?disinfo_keywords[]=77547&date=&per_page= <br>\n",
    "<br>\n",
    "**Specify license and/or terms of use for the data:** Open source (In https://euvsdisinfo.eu/about/ it describes the dataset as \"the only searchable, open-source repository of its kind.\") <br>\n",
    "<br>\n",
    "**Explain why this dataset is a suitable one for addressing your research goal listed above:** <br> This dataset has the year of publication and a snippet of the content for disinformation cases pertaining to Ukraine, so it is very relevant to addressing my research goals.\n",
    "<br>\n",
    "<br>\n",
    "**Highlight any possible ethical considerations to using this dataset:**  As stated in the disclaimer on the dataset page, just because the news media were flagged in the dataset as containing pro-Kremlin disinformation, it does not necessarily mean that the publishers sought to disinform or support the Kremlin. I don't intend to criticize the news sources. <br>\n",
    "<br>\n",
    "**Analyzing the timeline:** To better understand the timeline of conflicts between Russia & Ukraine, I will use the reporting in this NPR article - https://www.npr.org/2022/02/12/1080205477/history-ukraine-russia."
   ]
  },
  {
   "cell_type": "markdown",
   "id": "5cd26e38-46b5-474d-b848-d5a23c2a7df7",
   "metadata": {},
   "source": [
    "<h3> Backup Dataset: VoxUkraine Propaganda Diary"
   ]
  },
  {
   "cell_type": "markdown",
   "id": "c8825090-c990-4130-9f58-c1ac31046f92",
   "metadata": {},
   "source": [
    "This is a pretty similar concept to the other dataset and has pretty much all the same fields, it just has a lot less data in it than the EUvsDisinfo set but it might be easier for me to access since it is in a google sheet that I can download as a tsv file rather than a webpage (it has like several hundred entries rather than several thousand).\n",
    "\n",
    "The data in this dataset is specific to cases in Germany & Italy.\n",
    "\n",
    "The project - https://voxukraine.org/en/voxcheck-presents-propaganda-diary-a-database-of-russian-propaganda-in-the-italian-and-german-media/ & https://rusdisinfo.voxukraine.org/about <br>\n",
    "The data - https://docs.google.com/spreadsheets/d/1j5JuUDCpc7T9cAXqHC7MOe8mBsOJiw1SH5JzoUxFIYk/edit#gid=0 <br>\n",
    "License type - I think it is open/public domain since they are providing a link to download it & aren't listing any terms required for download, but I can't find where they specifically discuss it. <br>\n",
    "<br>"
   ]
  },
  {
   "cell_type": "markdown",
   "id": "737c99a1-b1dd-4c65-8089-e07fa3a6c842",
   "metadata": {},
   "source": [
    "<h3>Unknowns and Dependencies</h3>"
   ]
  },
  {
   "cell_type": "markdown",
   "id": "d4314c5b-9072-460a-ae0f-39163b88a072",
   "metadata": {},
   "source": [
    "**Are there any factors outside of your control that might impact your ability to complete this project by the end of the quarter?** Due to the problems with my original idea, I am getting a very late start here, and I also have a lot to do for my other classes as well. Hopefully with these adjustments to the project I can still finish it before the deadlines! <br>\n",
    "\n",
    "Also, this is a live, changing dataset so that could impact my analysis as I am writing it (but hopefully not too much since it is only updated once per week)."
   ]
  },
  {
   "cell_type": "markdown",
   "id": "00b42ab5-95b0-4cd3-aa3a-71b8c0cdbdf1",
   "metadata": {},
   "source": [
    "<h2>Project Plan</h2>"
   ]
  },
  {
   "cell_type": "markdown",
   "id": "234defb9-35f0-4c87-8c4d-03ef2e08e6a0",
   "metadata": {},
   "source": [
    "<h3>Research Question & Hypothesis"
   ]
  },
  {
   "cell_type": "markdown",
   "id": "2109fdab-9696-4a0f-9ef6-99174b7c9454",
   "metadata": {},
   "source": [
    "**Question** How is the output of pro-Kremlin disinformation correlated with the Russian war effort against Ukraine? Has the output of disinformation increased or decreased as the conflict has escalated?\n",
    "<br>\n",
    "<br>\n",
    "**Hypothesis** I predict that the volume of disinformation increases along the timeline of the conflict escalating, since in history (for example, during World War II) countries have used propaganda campaigns to bolster their war efforts. While disinformation and propaganda are not strictly the same thing, there are overlaps and they seem similar to me."
   ]
  },
  {
   "cell_type": "markdown",
   "id": "6aeb6d73-e5c4-495a-809a-07b64ce73ccc",
   "metadata": {},
   "source": [
    "<h3>Background"
   ]
  },
  {
   "cell_type": "markdown",
   "id": "e474753d-d4c2-4c48-883b-27384f56f991",
   "metadata": {},
   "source": [
    "**Propaganda in war efforts**<br>\n",
    "In a piece written in 1944 and published on The American Historical Association website, the author states that \"propaganda has become in modern war not only a formidable weapon against the enemy but likewise a necessary tool in promoting a national war effort.\" This piece discusses propaganda in the context of World War I and World War II.\n",
    "\n",
    "Propaganda in wartime may seek to:\n",
    "* Boost the disseminating nation's morale and motivate people to support the war effort - e.g. through buying bonds, becoming soldiers, general political support, etc.\n",
    "\n",
    "* \"Demoralize enemy morale\" - in essence, do exactly the opposite of everything described above and create feelings of hopelessness and undermine support in the enemy nation.\n",
    "\n",
    "**Disinformation vs. Propaganda**<br>\n",
    "There are differing views about the definitions of each of these terms, but generally it is agreed that:\n",
    "\n",
    "* Disinformation refers to information that is disseminated intentionally and purposefully, but is \"not necessarily composed of outright lies or fabrications. It can be composed of mostly true facts, stripped of context or blended with falsehoods to support the intended message, and is always part of a larger plan or agenda.\"\n",
    "\n",
    "* Propaganda refers to \"as the use of non-rational arguments to either advance or undermine a political ideal\"\n",
    "\n",
    "(from: https://www.ned.org/wp-content/uploads/2018/06/Distinguishing-Disinformation-from-Propaganda.pdf)\n",
    "\n",
    "Based on my own knowledge and understanding, I see them as two related concepts that are not exactly the same, but do overlap - not all disinformation is intended to advance/undermine political goals, but some of it certainly is. Similarly, not all propaganda is part of a larger plan or agenda and might not exhibit the same level of untrue information that is commonly associated with disinformation.\n",
    "    \n",
    "**Existing work on Russian disinformation & Ukraine**\n",
    "\n",
    "*Vox Ukraine reporting on the motivations of the dataset project:*<br>\n",
    "Vox Ukraine claims that Russia uses sophisticated disinformation campaigns aimed at amplifying the target country's internal conflicts so the country's efforts outside of their own borders are undermined.\n",
    "<br>\n",
    "The authors state that the Vox dataset specifically focuses on Germany and Italy since these countries are some of Russia's primary targets. \n",
    "<br>\n",
    "They add that ongoing efforts to understand Russia's disinformation campaigns are important because (1) disinformation can \"impact the level of public support for their governments’ actions to help Ukraine in the face of Russian aggression (financial aid, weapons, or support at the diplomatic level).\" They also cite examples of Russian disinformation relating the war.\n",
    "<br>\n",
    "<br>\n",
    "*Reuters Reporting on Russia-backed disinformation:*\n",
    "<br>\n",
    "An article published in early April 2022 by Reuters further supports claims that disinformation is part of the Russian war effort. It discusses how a Canadian intelligence agency observed Russian-backed disinformation campaigns online.\n",
    "<br>\n",
    "Some of the disinformation included:\n",
    "* Minimizing civilian casualties\n",
    "* False allegations of Ukraine harvesting peoples organs\n",
    "* \"Falsely [categorizing] Russian protestors and citizens opposed to the invasion as supporting neo-Nazis\"\n",
    "\n",
    "\n",
    "(From: https://www.reuters.com/world/americas/canada-agency-finds-russia-backed-disinformation-campaigns-support-ukraine-2022-04-01/)\n",
    "<br>\n",
    "\n",
    "In comparing the purposes of propaganda discussed in the first source and the reporting on how Russia uses disinformation in relation to its war efforts against Ukraine, one could reasonably conclude that Russia is using disinformation in similar ways and for the same purposes that wartime propaganda has been used in history.\n",
    "\n",
    "Through my analysis, I will seek to corroborate this conclusion by seeing how the data output correlates with the events of the Russia/Ukraine conflict and subsequent war."
   ]
  },
  {
   "cell_type": "markdown",
   "id": "98879bc0-cc89-4ae1-a241-1d86fc85ca7f",
   "metadata": {},
   "source": [
    "<h3>Methods"
   ]
  },
  {
   "cell_type": "markdown",
   "id": "6e3fbe14-4e96-4b89-865b-41297e87b418",
   "metadata": {},
   "source": [
    "Unfortunately the EUvsDisinfo dataset does not have a downloadable version available, so I will need to access it through scraping the page, using either a tool that I pay for or building my own web-scraper. I will first try to build my own scraping tool, as I think this will be an educational experience for me, but if I am ultimately unable to do so in the time I have to complete this progect, I will either use a paid tool or use my backup dataset described above.\n",
    "\n",
    "Using this method, I can also specify certain dates if that is useful for my analysis comparing it against the timeline (both the datasets include dates so this should be possible either way).\n",
    "\n",
    "I will calculate the volume of disinformation cases published for each period in the timeline and determine of there is an increase in disinformation output as the conflict escalates on the timeline.\n",
    "\n",
    "I will document my results using data visualisations (most likely a visualisation that combines a timeline and a plotted graph showing amounts of disinformation cases). I am inclined to create the high-fidelity, final visualisation in Figma since I am more familiar with it and it also allows for more flexibility. I would then paste it into the Jupyter notebook.\n",
    "\n",
    "I may also include highlights from the disinformation summaries & debunking statements if I come accross cases where the information presented appears to be very relevant to the war, but this is more of a secondary goal since it involves qualitative analysis and would be more time-consuming. If there is time for this, I think it would be a nice addition to my report to engage the reader more."
   ]
  },
  {
   "cell_type": "markdown",
   "id": "36af3473-68c4-41ff-bd21-5d912d7255ba",
   "metadata": {},
   "source": [
    "<br>\n",
    "<br>\n",
    "<br>\n",
    "Here are some initial (failed) tests for trying different ways to access the EUvsDisinfo dataset:"
   ]
  },
  {
   "cell_type": "code",
   "execution_count": 10,
   "id": "0bc021bf-468e-4c9f-8fb0-4667145ebec3",
   "metadata": {},
   "outputs": [
    {
     "name": "stdout",
     "output_type": "stream",
     "text": [
      "404\n"
     ]
    }
   ],
   "source": [
    "import urllib.parse, urllib.request, urllib.error, json, csv\n",
    "from urllib.request import Request, urlopen\n",
    "import ssl\n",
    "ssl._create_default_https_context = ssl._create_unverified_context\n",
    "from pprint import pprint\n",
    "import requests\n",
    "\n",
    "# ORIGINAL\n",
    "# url = \"https://www.askgamblers.com/\"\n",
    "# page = requests.get(url, headers={'User-Agent': 'Mozilla/5.0 (Windows NT 10.0; Win64; x64) AppleWebKit/537.36 (KHTML, like Gecko) Chrome/96.0.4664.45 Safari/537.36'})\n",
    "# print(page.status_code)\n",
    "\n",
    "\n",
    "# REVISED TO GET CACHE\n",
    "# header = {\n",
    "#    \"user-agent\": \"Mozilla/5.0 (Windows NT 10.0; Win64; x64) AppleWebKit/537.36 (KHTML, like Gecko) Chrome/74.0.3729.169 Safari/537.36\" ,\n",
    "#    'referer':'https://www.google.com/'\n",
    "#}\n",
    "\n",
    "#r = requests.get(\"http://webcache.googleusercontent.com/search?q=cache:www.naukri.com/jobs-in-andhra-pradesh\",headers=header)\n",
    "\n",
    "    # unfortunately there is not a google cache of the database page... -> I think there is another way to make the API call look like a regular search, but I'm not sure how to do it.\n",
    "\n",
    "url = 'https://euvsdisinfo.eu/disinformation-cases/?disinfo_keywords[]=77547&date=&per_page='\n",
    "header = {\n",
    "    \"user-agent\": 'Mozilla/5.0 (X11; Linux x86_64) AppleWebKit/537.36 (KHTML, like Gecko) Chrome/51.0.2704.103 Safari/537.36',\n",
    "    'referer':'https://www.google.com/'\n",
    "}\n",
    "page = requests.get(\"http://webcache.googleusercontent.com/search?q=euvsdisinfo.eu/\",headers=header)\n",
    "print(page.status_code)\n",
    "\n",
    "#disinfodatajson = page.read()\n",
    "#disinfodata = json.loads(langdatajson)\n",
    "\n",
    "#pprint(disinfodata[5:])"
   ]
  },
  {
   "cell_type": "markdown",
   "id": "30016a19-3ea6-449f-b128-8795123fd00a",
   "metadata": {},
   "source": [
    "Here's a test to see if I can read in the data from the Vox dataset (my contingency plan), which I downloaded as a TSV file:"
   ]
  },
  {
   "cell_type": "code",
   "execution_count": 14,
   "id": "e6685180-4228-40b3-a3e0-58e9e4fd87ea",
   "metadata": {},
   "outputs": [
    {
     "name": "stdout",
     "output_type": "stream",
     "text": [
      "{'Countries': 'Italy',\n",
      " 'Date': '09/12/2021',\n",
      " 'Debunking': '<p>Not the Revolution of Dignity but Russian aggression led to '\n",
      "              'the war in the East and the occupation of Crimea. Moreover, '\n",
      "              'Russia also attacked on the information front, spreading <a '\n",
      "              'href=\"https://Russian.rt.com/ussr/article/898725-ukraina-nezavisimost-30-let\">fakes</a> '\n",
      "              'about brutal right-wing Euromaidan activists who want to deal '\n",
      "              'with the Russian-speaking population of Donbass and Crimea, '\n",
      "              'from which they must be “saved” immediately.</p> <p>These '\n",
      "              'theses became the basis for the provocation and formation of '\n",
      "              '“republics” that were never really independent. In 2014, during '\n",
      "              'a rally to secede from Ukraine in Donetsk, militants\\xa0<a '\n",
      "              'href=\"https://web.archive.org/web/20140304071459/http://zaxid.net/home/showSingleNews.do?u_donetsku_nad_oblradoyu_pidnyali_rosiyskiy_prapor&objectId=1303664\">raised '\n",
      "              'the</a> Russian flag and Russian citizens took leadership '\n",
      "              'positions. The “prime minister” of the DPR in 2014, Russian '\n",
      "              'Alexander Borodai,\\xa0<a '\n",
      "              'href=\"https://khpg.org/en/1565889311\">stated</a> later that if '\n",
      "              'it were not for Putin, his policy of decision and action, there '\n",
      "              'would be no Russian Donbass: DPR and LPR.</p> <p>Russia’s '\n",
      "              'intervention in the war has been proven\\xa0<a '\n",
      "              'href=\"https://www.radiosvoboda.org/a/29565423.html\">repeatedly</a>. '\n",
      "              'The regular Russian army, codenamed Ikhtamnet, took part in the '\n",
      "              'battles against the Armed Forces in the summer of 2014, in the '\n",
      "              'winter of 2015, and all the time afterwards, and was also '\n",
      "              'responsible for shooting down MH-17. The presence of the '\n",
      "              'Russian Federation was recognized by the\\xa0<a '\n",
      "              'href=\"https://osce.usmission.gov/on-Russias-aggression-against-ukraine-5-2/?fbclid=IwAR0K0VfEi2rgep8hxs9cdyP6igEFKjzrBdDe7_thIhDyL_MXwK5lrx2wB2k\">OSCE</a> '\n",
      "              'and\\xa0<a '\n",
      "              'href=\"https://www.bellingcat.com/news/uk-and-europe/2018/05/10/full-report-Russian-officers-militants-identified-perpetrators-january-2015-mariupol-artillery-strike/?fbclid=IwAR2kEwgJ86x3TQzTiDxCwUZ-PL0asO9IRih3g4u0YHlPpLYq3e5ormExNns\">Bellingcat</a> '\n",
      "              'investigators : thousands of Russian servicemen\\xa0<a '\n",
      "              'href=\"https://ru.bellingcat.com/novosti/Russia/2016/08/31/medals-ru/?fbclid=IwAR2g_kL1QEMpot7HD3YIdTnvSwOYBBlRHPjWQFsrZXTtqRZz30JtrLa_PwA\">took '\n",
      "              'part in the fighting in eastern Ukraine</a> and were awarded '\n",
      "              'medals. Moreover, Russia was systematically increasing its '\n",
      "              'influence in the occupied territories. In particular, in 2020, '\n",
      "              'about 165 Russian passports were\\xa0<a '\n",
      "              'href=\"https://www.ukrinform.ua/rubric-polytics/2883968-rnbo-mae-spiski-vsih-ukrainciv-aki-otrimali-pasporti-rf-na-donbasi-danilov.html\">issued</a> '\n",
      "              'to residents of the DPR and the LPR and in 2021 – admission to '\n",
      "              'the party «United Russia» and\\xa0<a '\n",
      "              'href=\"https://www.radiosvoboda.org/a/donbas-edinaya-Russia-partiya/31592493.html\">the '\n",
      "              'right to</a> vote in Russian elections. So there can be no '\n",
      "              'question of any civil war.</p>',\n",
      " 'Disinfo_cases_en': 'Large swaths of the eastern Ukrainian regions of Donetsk '\n",
      "                     'and Lugansk were engulfed in civil war in the spring of '\n",
      "                     '2014 after locals angered by the February 2014 Kyiv coup '\n",
      "                     'attempted to get rid of the central government.',\n",
      " 'Fakes': 'Maidan led to the separation of Donetsk and Luhansk and civil war '\n",
      "          'in the region',\n",
      " 'Link': 'https://it.sputniknews.com/20211209/putin-quello-che-accade-nel-donbass-assomiglia-a-un-genocidio-14125613.html',\n",
      " 'Media': 'SNA.IT',\n",
      " 'Narrative': \"Maidan in 2014 was a coup d'état\",\n",
      " 'id': '1'}\n",
      "\n",
      "Number of entries:895\n"
     ]
    }
   ],
   "source": [
    "import csv\n",
    "\n",
    "def prepare_datasets(file_path):\n",
    "    \"\"\" \n",
    "    Accepts: path to a tab-separated plaintext file\n",
    "    Returns: a list containing a dictionary for every row in the file, \n",
    "        with the file column headers as keys\n",
    "    \"\"\"\n",
    "    \n",
    "    with open(file_path) as infile:\n",
    "        reader = csv.DictReader(infile, delimiter='\\t')\n",
    "        list_of_dicts = [dict(r) for r in reader]\n",
    "        \n",
    "    return list_of_dicts\n",
    "\n",
    "vox_data = prepare_datasets(\"vox-disinfo.tsv\")\n",
    "pprint(vox_data[0])\n",
    "print()\n",
    "print(\"Number of entries:\" + str(len(vox_data)))"
   ]
  }
 ],
 "metadata": {
  "kernelspec": {
   "display_name": "Python 3 (ipykernel)",
   "language": "python",
   "name": "python3"
  },
  "language_info": {
   "codemirror_mode": {
    "name": "ipython",
    "version": 3
   },
   "file_extension": ".py",
   "mimetype": "text/x-python",
   "name": "python",
   "nbconvert_exporter": "python",
   "pygments_lexer": "ipython3",
   "version": "3.9.7"
  }
 },
 "nbformat": 4,
 "nbformat_minor": 5
}
