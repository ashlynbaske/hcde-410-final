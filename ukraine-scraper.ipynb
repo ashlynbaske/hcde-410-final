{
 "cells": [
  {
   "cell_type": "markdown",
   "id": "f59ccc21-3afc-48e4-95ec-86be18044aff",
   "metadata": {},
   "source": [
    "<h2> Building my web scraper to get data from the EUvsDisinfo dataset"
   ]
  },
  {
   "cell_type": "markdown",
   "id": "fd1fc131-a471-4f30-abad-701a1ffc40e6",
   "metadata": {},
   "source": [
    "Using guidelines from - https://opensource.com/article/21/9/web-scraping-python-beautiful-soup"
   ]
  },
  {
   "cell_type": "code",
   "execution_count": 20,
   "id": "ea4a945a-9ae5-4644-89b1-5933f5b99439",
   "metadata": {},
   "outputs": [
    {
     "name": "stdout",
     "output_type": "stream",
     "text": [
      "403\n"
     ]
    }
   ],
   "source": [
    "url = 'https://euvsdisinfo.eu/disinformation-cases/?disinfo_keywords[]=77547&date=&per_page='\n",
    "'''\n",
    "import requests\n",
    "\n",
    "header = {\n",
    "    \"user-agent\": 'Mozilla/5.0 (X11; Linux x86_64) AppleWebKit/537.36 (KHTML, like Gecko) Chrome/51.0.2704.103 Safari/537.36'\n",
    "}\n",
    "url = 'https://euvsdisinfo.eu/disinformation-cases/?disinfo_keywords[]=77547&date=&per_page='\n",
    "\n",
    "data = requests.get(url,headers=header)\n",
    "\n",
    "print(data.text)\n",
    "'''\n",
    "\n",
    "#still getting a 403 error...\n",
    "\n",
    "'''\n",
    "from urllib.request import Request, urlopen\n",
    "url='https://euvsdisinfo.eu/disinformation-cases/?disinfo_keywords[]=77547&date=&per_page='\n",
    "req = Request(url, headers={'User-Agent': 'Mozilla/5.0'})\n",
    "\n",
    "web_byte = urlopen(req).read()\n",
    "\n",
    "webpage = web_byte.decode('utf-8')\n",
    "'''\n",
    "'''\n",
    "import urllib.request\n",
    "\n",
    "class AppURLopener(urllib.request.FancyURLopener):\n",
    "    version = \"Mozilla/5.0\"\n",
    "\n",
    "opener = AppURLopener()\n",
    "response = opener.open('https://euvsdisinfo.eu/disinformation-cases/?disinfo_keywords[]=77547&date=&per_page=')\n",
    "'''\n",
    "\n",
    "'''\n",
    "from urllib.request import Request, urlopen\n",
    "\n",
    "req = Request('https://euvsdisinfo.eu/disinformation-cases/?disinfo_keywords[]=77547&date=&per_page=', headers={'User-Agent': 'XYZ/3.0'})\n",
    "webpage = urlopen(req, timeout=10).read()\n",
    "\n",
    "print(webpage)\n",
    "'''\n",
    "\n",
    "'''\n",
    "from urllib.request import Request, urlopen\n",
    "\n",
    "# Function to get the page content\n",
    "def get_page_content(url, head):\n",
    "    req = Request(url, headers=head)\n",
    "    return urlopen(req)\n",
    "\n",
    "url = 'https://euvsdisinfo.eu/disinformation-cases/?disinfo_keywords[]=77547&date=&per_page='\n",
    "head = {\n",
    "      'User-Agent': 'Mozilla/5.0 (Macintosh; Intel Mac OS X 10_14_6) AppleWebKit/537.36 (KHTML, like Gecko) Chrome/99.0.4844.84 Safari/537.36',\n",
    "      'Accept': 'text/html,application/xhtml+xml,application/xml;q=0.9,image/avif,image/webp,image/apng,*/*;q=0.8,application/signed-exchange;v=b3;q=0.9',\n",
    "      'Accept-Charset': 'ISO-8859-1,utf-8;q=0.7,*;q=0.3',\n",
    "      'Accept-Encoding': 'none',\n",
    "      'Accept-Language': 'en-US,en;q=0.8',\n",
    "      'Connection': 'keep-alive',\n",
    "      'refere': 'https://euvsdisinfo.eu/disinformation-cases/?disinfo_keywords[]=77547&date=&per_page=',\n",
    "      'cookie': \"8d8df4a23937ce7dc639aaa2d1e9a3eb\"\n",
    "    }\n",
    "\n",
    "data = get_page_content(url, head).read()\n",
    "print(data)\n",
    "'''\n",
    "\n",
    "'''\n",
    "import requests\n",
    "\n",
    "session = requests.Session()\n",
    "response = session.get('https://euvsdisinfo.eu/disinformation-cases/?disinfo_keywords[]=77547&date=&per_page=', headers={'User-Agent': 'Mozilla/5.0'})\n",
    "\n",
    "print(response.status_code)\n",
    "'''\n",
    "import requests\n",
    "session = requests.Session()\n",
    "\n",
    "headers= {\n",
    "    'Accept': 'text/html,application/xhtml+xml,application/xml;q=0.9,*/*;q=0.8',\n",
    "    'Accept-Encoding': 'gzip, deflate, br',\n",
    "    'Accept-Language':  'en-US,en;q=0.5',\n",
    "    'Connection': 'keep-alive',\n",
    "    'Host': 'euvsdisinfo.eu',\n",
    "    'User-Agent': 'Mozilla/5.0 (X11; Ubuntu; Linux x86_64; rv:71.0) Gecko/20100101 Firefox/71.0'\n",
    "}\n",
    "\n",
    "response = session.get(url, headers=headers)\n",
    "print(response.status_code)\n"
   ]
  },
  {
   "cell_type": "code",
   "execution_count": null,
   "id": "b946f934-2e80-4c35-8336-23e15fbdc9eb",
   "metadata": {},
   "outputs": [],
   "source": []
  }
 ],
 "metadata": {
  "kernelspec": {
   "display_name": "Python 3 (ipykernel)",
   "language": "python",
   "name": "python3"
  },
  "language_info": {
   "codemirror_mode": {
    "name": "ipython",
    "version": 3
   },
   "file_extension": ".py",
   "mimetype": "text/x-python",
   "name": "python",
   "nbconvert_exporter": "python",
   "pygments_lexer": "ipython3",
   "version": "3.9.7"
  }
 },
 "nbformat": 4,
 "nbformat_minor": 5
}
