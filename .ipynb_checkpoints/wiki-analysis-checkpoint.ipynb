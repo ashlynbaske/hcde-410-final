{
 "cells": [
  {
   "cell_type": "markdown",
   "id": "f3a3c43a-1306-4469-9ba4-71a316591c33",
   "metadata": {},
   "source": [
    "<h1> Analysis"
   ]
  },
  {
   "cell_type": "markdown",
   "id": "6eb1c93e-ccb9-4a41-915c-25d31e4ef50c",
   "metadata": {},
   "source": [
    "*All data is from the 2020 edition of the World Factbook*"
   ]
  },
  {
   "cell_type": "markdown",
   "id": "3505d52f-8ff4-4910-a74f-10a5e588c183",
   "metadata": {},
   "source": [
    "<h3> Analysis Part 1: Reading in the Data"
   ]
  },
  {
   "cell_type": "code",
   "execution_count": null,
   "id": "0a73c869-e2fd-4e06-95f8-cd0211a1ccd9",
   "metadata": {},
   "outputs": [],
   "source": [
    "import csv"
   ]
  },
  {
   "cell_type": "code",
   "execution_count": null,
   "id": "dc29e9d9-3bb1-40d6-82f5-d7b3f33636b7",
   "metadata": {},
   "outputs": [],
   "source": [
    "def prepare_datasets(file_path):\n",
    "    \"\"\" \n",
    "    Accepts: path to a comma-separated plaintext file\n",
    "    Returns: a list containing a dictionary for every row in the file, \n",
    "        with the file column headers as keys\n",
    "    \"\"\"\n",
    "    \n",
    "    with open(file_path) as infile:\n",
    "        reader = csv.DictReader(infile, delimiter=',')\n",
    "        list_of_dicts = [dict(r) for r in reader]\n",
    "        \n",
    "    return list_of_dicts"
   ]
  },
  {
   "cell_type": "code",
   "execution_count": null,
   "id": "3c77d5b5-233a-445b-8556-6c4164eef22d",
   "metadata": {},
   "outputs": [],
   "source": [
    "world_factbook = prepare_datasets(\"cia-factbook.csv\")"
   ]
  },
  {
   "cell_type": "code",
   "execution_count": null,
   "id": "598e4f90-18e8-42b5-878a-742e3a280bd4",
   "metadata": {},
   "outputs": [],
   "source": [
    "print(str(worldbook[1]))\n",
    "\n",
    "# hmm why not working?"
   ]
  },
  {
   "cell_type": "markdown",
   "id": "bb8245be-6fdf-4aaf-80f0-c6dbe21afb0a",
   "metadata": {},
   "source": [
    "<H3> Analysis Part 2: Czechia Geopolitical data"
   ]
  },
  {
   "cell_type": "markdown",
   "id": "835924fe-eb51-48ed-8ed8-500d133d5d99",
   "metadata": {},
   "source": [
    "*Czechia is my control country, sort of a baseline, since Czech Wikipedia isn't captured*\n",
    "\n",
    "**2.1: Systems**\n",
    "\n",
    "* economic system (eg \"capitalist\") <br>\n",
    "\n",
    "* type of government (eg \"dictatorship\") <br>\n",
    "\n",
    "**2.2: racial, ethnic & religious tensions:** \n",
    "* number of unique ethnic groups & percentages\n",
    "* number of unique religions & percentages \n",
    "* number of unique terrorist groups & names\n",
    "<br>\n",
    "\n",
    "**2.3: education & society:** \n",
    "* literacy rates\n",
    "* school life expectancy\n",
    "* number of internally displaced persons\n",
    "* qualitative: context for any of this\n",
    "<br>\n",
    "\n",
    "**2.4: economic:** \n",
    "* GDP per capita\n",
    "* unemployment rate\n",
    "* percent of population below poverty line \n",
    "<br>\n",
    "\n",
    "**2.5: internet:** \n",
    "* percent of population with internet access \n",
    "<br>\n",
    "\n",
    "**2.6: conflicts/issues:** any ongoing internal or transnational disputes (if there are many, compare the numbers of them)"
   ]
  },
  {
   "cell_type": "code",
   "execution_count": null,
   "id": "9dcf7f0c-767e-48db-94da-510bd8264c81",
   "metadata": {},
   "outputs": [],
   "source": []
  }
 ],
 "metadata": {
  "kernelspec": {
   "display_name": "Python 3 (ipykernel)",
   "language": "python",
   "name": "python3"
  },
  "language_info": {
   "codemirror_mode": {
    "name": "ipython",
    "version": 3
   },
   "file_extension": ".py",
   "mimetype": "text/x-python",
   "name": "python",
   "nbconvert_exporter": "python",
   "pygments_lexer": "ipython3",
   "version": "3.9.7"
  }
 },
 "nbformat": 4,
 "nbformat_minor": 5
}
