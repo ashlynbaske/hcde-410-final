{
 "cells": [
  {
   "cell_type": "markdown",
   "id": "ec1e0918-cf8f-46e5-856d-70a515c7be8e",
   "metadata": {},
   "source": [
    "<h2>Preliminary Proposal</h2>"
   ]
  },
  {
   "cell_type": "markdown",
   "id": "79a99d23-40eb-43ed-bcac-3e7f76438478",
   "metadata": {},
   "source": [
    "*Ashlyn B. Aske, HCDE410*"
   ]
  },
  {
   "cell_type": "markdown",
   "id": "87fe822a-ebf8-4430-ab70-cb7318b9a500",
   "metadata": {},
   "source": [
    "<h3>Problem Statement and Motivation</h3>"
   ]
  },
  {
   "cell_type": "markdown",
   "id": "ad2afb02-9314-4d6d-8b26-607ec02dde96",
   "metadata": {},
   "source": [
    "**Idea** Investigate how country data related to a country's general well-being is predictive of the success of related small wiki language projects. There are certain measures of social and financial prosperity that alledgedly predict the well-being and quality of life in a country. <br>\n",
    "<br>\n",
    "**Why are you planning to do this analysis?** In my DRG this quarter, I am working with a PhD student who is investigating disinformation on small language editions of Wikipedia (also called projects sometimes). In larger language editions of Wikipedia, like the English edition, content moderation and verification is pretty well managed, but smaller wikis are more vulnerable to disinformation and related issues. One such issue is called project capture, where a small group of ideologues or extremists takes control of an entire wikipedia edition and spins the articles to support their world views. One of the most notorious and extreme instances of project capture occurred on Croatian Wikipedia (see more: https://en.wikipedia.org/wiki/Wikipedia:Wikipedia_Signpost/2021-06-27/Disinformation_report). So far in our research in the DRG, we've seem that some small wikipedias seem to be more vulnerable to disinformation and capture, while others are much more functional. I am interested in seeing how sociopolitical factors in the countries where these languages are spoken compare, to see if it might be predictive of the project's vulnerability to disinformation. <br>\n",
    "<br>\n",
    "**Why is it potentially interesting and useful, from a scientific, practical, and/or human-centered perspective?** Wikipedia is one of the most important and most used sources of information on the internet. Most google knowledge panels (the small panel of information that pops up when you google something that you can read without clinking any links) are sourced from Wikipedia. Combatting misinformation and disinformation on Wikipedia is essential to combatting mis- and disinformation overall. <br>\n",
    "<br>\n",
    "**What do you hope to learn?** Better understanding the factors that lead to dysfunctional wikipedia language editions (like Croatian Wikipedia). <br>\n",
    "<br>\n",
    "**Note from peer feedback** My peers Cato and Arissa suggested that I focus on/at least use some numeric data because String data can be hard to parse and analyze, and very slow to work with."
   ]
  },
  {
   "cell_type": "markdown",
   "id": "fb479778-d676-4f89-a10f-9c78b7cc15f7",
   "metadata": {},
   "source": [
    "<h3>Data Selected for Analysis</h3>"
   ]
  },
  {
   "cell_type": "markdown",
   "id": "93034919-5ac4-4a42-8249-2f75b61dbe6a",
   "metadata": {},
   "source": [
    "**What dataset do you plan to use, and why?** CIA World Factbook, because it has large tables with many schema for quite a few different countries around the world.<br> \n",
    "<br>\n",
    "**Summarize what is represented in the dataset:**  There are tables for each country contained in the dataset. There are both string and numeric schema in varied categories, such as 'geography', 'people and society', and 'transational issues.'<br>\n",
    "<br>\n",
    "**Link to the dataset (it must be publicly available):**  https://www.cia.gov/the-world-factbook/ <br>\n",
    "<br>\n",
    "**Specify license and/or terms of use for the data:** Public Domain <br>\n",
    "<br>\n",
    "**Explain why this dataset is a suitable one for addressing your research goal listed above:** <br> This dataset has extensive data about multiple different countries, giving me a lot of flexibility about what schema I would like to use in my investigation and which countries to include.\n",
    "<br>\n",
    "<br>\n",
    "**Highlight any possible ethical considerations to using this dataset:**  There have been past issues where it has been highlighted that the CIA does not always collect data in an ethical manner. I don't know where the data in this dataset came from and how it was obtained, so I don't know if these issues apply or not. <br>\n"
   ]
  },
  {
   "cell_type": "markdown",
   "id": "737c99a1-b1dd-4c65-8089-e07fa3a6c842",
   "metadata": {},
   "source": [
    "<h3>Unknowns and Dependencies</h3>"
   ]
  },
  {
   "cell_type": "markdown",
   "id": "d4314c5b-9072-460a-ae0f-39163b88a072",
   "metadata": {},
   "source": [
    "**Are there any factors outside of your control that might impact your ability to complete this project by the end of the quarter?** If the data in the dataset is updated or changed while I'm working on the project that could be confusing, but it is probably not going to be a huge issue. Other than that, I don't foresee any issues. <br>"
   ]
  },
  {
   "cell_type": "markdown",
   "id": "00b42ab5-95b0-4cd3-aa3a-71b8c0cdbdf1",
   "metadata": {},
   "source": [
    "<h2>Project Plan</h2>"
   ]
  },
  {
   "cell_type": "markdown",
   "id": "234defb9-35f0-4c87-8c4d-03ef2e08e6a0",
   "metadata": {},
   "source": [
    "<h3>Research Question & Hypothesis"
   ]
  },
  {
   "cell_type": "markdown",
   "id": "2109fdab-9696-4a0f-9ef6-99174b7c9454",
   "metadata": {},
   "source": [
    "**Question** How are measures of sociopolitical well-being in countries correlated with the success (or lack thereof) of small language editions of wikipedia?\n",
    "<br>\n",
    "<br>\n",
    "**Hypothesis** I predict that recent (eg, happening in the 21st century) sociopolitical unrest, as shown through statistics denoting poor conditions, in certain countries will be correlated with higher disinformation risk on the wikipedia language editions associated with these countries."
   ]
  },
  {
   "cell_type": "markdown",
   "id": "6aeb6d73-e5c4-495a-809a-07b64ce73ccc",
   "metadata": {},
   "source": [
    "<h3>Background"
   ]
  },
  {
   "cell_type": "markdown",
   "id": "9e84b835-97d4-4f41-b446-a47399ba53c9",
   "metadata": {},
   "source": [
    "**Project Capture on Croatian Wikipedia** (https://en.wikipedia.org/wiki/Wikipedia:Wikipedia_Signpost/2021-06-27/Disinformation_report)\n",
    "\n",
    "- Problematic admins on Croatian Wikipedia provided a biased account of Croatian history events in which they were apologetic towards Nazism and downplayed war crimes committed during the Yugoslav wars.\n",
    "- Croatian Wikipedia has had one of the most extreme cases of project capture & Croatia as a country has a very turbulent (and recent) history as a Nazi-puppet state in world war II, one of the countries involved in the Yugoslav wars (1991 - 1995) - very bad and involved ethnic cleansing, economic depression & political corruption after the war.\n",
    "- Croatian history (from the generally reliable English Wikipedia!) - (https://en.wikipedia.org/wiki/History_of_Croatia#Kingdom_of_Yugoslavia_(1918–1941))"
   ]
  },
  {
   "cell_type": "markdown",
   "id": "cf3d9e83-50a3-4140-977a-e0bd72dc832d",
   "metadata": {},
   "source": [
    "**How is social unrest/instability measured?** “Social unrest has been attributed to a variety of social, political, economic, and environmental causes including racial and ethnic tensions (11), food scarcity and food price increases (6-10), variations in international commodity prices (12, 13), economic shocks (14), climate change and rainfall shocks (15, 16) and demographic changes.” (https://static1.squarespace.com/static/5b68a4e4a2772c2a206180a1/t/5c60419d085229b582c2ee35/1549812126353/Civil_Unrest_Braha_Arxiv2012.pdf)"
   ]
  },
  {
   "cell_type": "markdown",
   "id": "51f4b5a5-5ae1-47a1-b107-c7af366911df",
   "metadata": {},
   "source": [
    "**Which Wikipedia language editions are \"small\"?** (https://meta.wikimedia.org/wiki/List_of_Wikipedias)\n",
    "For this project, I will look at Wikipedia language editions that are in the 100,000 articles section of the above link. \n",
    "\n",
    "In my DRG we have found so far that for language editions that are smaller than this, disinformation phenomena are different because so few people are contributing to the project that any bias comes from these limited contributors (e.g. the project capture factor isn't a concern). Larger Wikipedia projects are generally less vulnerable to disinformation risks because they have more editors and admins to monitor for disinformation. \n",
    "\n",
    "This paper also finds similar phenomena: https://arxiv.org/abs/2106.15940"
   ]
  },
  {
   "cell_type": "markdown",
   "id": "29c81bc1-0653-4b1f-a889-6644b9e3ce41",
   "metadata": {},
   "source": [
    "**How are disinformation on Wikipedia and geopolitics related?** (https://arxiv.org/abs/2106.15940)\n",
    "This paper presents a taxonomy of different factors contributing to disinformation risk on Wikipedia. They suggest that geopolitics may play a role, but mostly suggest that corporations or governments may try to create disinformation campaigns on Wikipedia. \n",
    "<br>\n",
    "<br>\n",
    "Based on the case of Croatian Wikipedia discussed above, I am interested in looking at how ideological or nationalistic admins or editors, ordinary people who have been impacted by geopolitical factors in their countries, contribute to disinformation risk."
   ]
  },
  {
   "cell_type": "markdown",
   "id": "98879bc0-cc89-4ae1-a241-1d86fc85ca7f",
   "metadata": {},
   "source": [
    "<h3>Methods"
   ]
  },
  {
   "cell_type": "markdown",
   "id": "6e3fbe14-4e96-4b89-865b-41297e87b418",
   "metadata": {},
   "source": [
    "I will begin by comparing Croatia and Czechia (Czech Republic) accross the following schema from the CIA world factbook dataset. I am starting with these two countries because the Croatian Wikipedia project report suggests that Croatian Wikipedia is very dysfunctional, meanwhile in my DRG we have so far found that Czech Wikipedia contrasts significantly with this through interviewing members of Czech Wikipedia. \n",
    "\n",
    "I will compare numeric values in the bolded categories through data visualizations across the two countries.\n",
    "\n",
    "I may also expand this analysis to other small language Wikipedia editions. My selection criteria will be that: \n",
    "* the project must be of intermediate size (see elaboration above)\n",
    "* the project must be for a national language that is primarily spoken in one country (otherwise the correlation between geopolitical statistics for a certain country and the Wikipedia edition would not hold up)\n",
    "\n",
    "Schema (selected and categorized based on the factors discussed in the background section):\n",
    "\n",
    "* economic system (eg \"capitalist\") <br>\n",
    "\n",
    "* type of government (eg \"dictatorship\") <br>\n",
    "\n",
    "* **racial, ethnic & religious tensions:** number of unique ethnic groups & percentages, number of unique religions & percentages, number of unique terrorist groups <br>\n",
    "\n",
    "* ~~**medical:** birth & death rate, mother’s age at first birth, maternal + infant mortality, life expectancy, food insecurity~~  *deleting this because after I talked with Himanshu we decided it probably wouldn't be super relevant as an indicator for disinformation* <br>\n",
    "\n",
    "* **education & society:** literacy rates, school life expectancy, number of internally displaced persons <br>\n",
    "\n",
    "* **economic:** GDP per capita, unemployment rate, percent of population below poverty line <br>\n",
    "\n",
    "* **internet:** percent of population with internet access <br>\n",
    "\n",
    "* **conflicts/issues:** any ongoing internal or transnational disputes (if there are many, compare the numbers of them)\n",
    "\n",
    "Comparing data visualisations across a small number of countries will be the easiest way to view patterns."
   ]
  },
  {
   "cell_type": "code",
   "execution_count": null,
   "id": "62a19a41-83d4-43a8-a446-c6035428737b",
   "metadata": {},
   "outputs": [],
   "source": []
  }
 ],
 "metadata": {
  "kernelspec": {
   "display_name": "Python 3 (ipykernel)",
   "language": "python",
   "name": "python3"
  },
  "language_info": {
   "codemirror_mode": {
    "name": "ipython",
    "version": 3
   },
   "file_extension": ".py",
   "mimetype": "text/x-python",
   "name": "python",
   "nbconvert_exporter": "python",
   "pygments_lexer": "ipython3",
   "version": "3.9.7"
  }
 },
 "nbformat": 4,
 "nbformat_minor": 5
}
