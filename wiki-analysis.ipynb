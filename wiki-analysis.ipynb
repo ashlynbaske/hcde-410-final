{
 "cells": [
  {
   "cell_type": "markdown",
   "id": "f3a3c43a-1306-4469-9ba4-71a316591c33",
   "metadata": {},
   "source": [
    "<h1> Analysis"
   ]
  },
  {
   "cell_type": "markdown",
   "id": "6eb1c93e-ccb9-4a41-915c-25d31e4ef50c",
   "metadata": {},
   "source": [
    "*All data is from the 2020 edition of the World Factbook*"
   ]
  },
  {
   "cell_type": "markdown",
   "id": "3505d52f-8ff4-4910-a74f-10a5e588c183",
   "metadata": {},
   "source": [
    "<h3> Analysis Part 1: Reading in the Data"
   ]
  },
  {
   "cell_type": "code",
   "execution_count": 13,
   "id": "0a73c869-e2fd-4e06-95f8-cd0211a1ccd9",
   "metadata": {},
   "outputs": [],
   "source": [
    "import json"
   ]
  },
  {
   "cell_type": "code",
   "execution_count": 3,
   "id": "3c77d5b5-233a-445b-8556-6c4164eef22d",
   "metadata": {},
   "outputs": [],
   "source": [
    "def read_in_country():\n",
    "    return country"
   ]
  },
  {
   "cell_type": "markdown",
   "id": "6848933d-fb96-48e7-8046-af593a8db12f",
   "metadata": {},
   "source": [
    "<h5> GEC Country Codes to Country Name\n",
    "<br> \n",
    "<br>\n",
    "    \n",
    "| GEC Code    | Name        |\n",
    "| ----------- | ----------- |\n",
    "| ez          | Czechia     |\n",
    "| hr          | Croatia     |\n",
    "| ch          | China       |\n",
    "| ja          | Japan       |\n",
    "| gm          | Germany     |"
   ]
  },
  {
   "cell_type": "markdown",
   "id": "bb8245be-6fdf-4aaf-80f0-c6dbe21afb0a",
   "metadata": {},
   "source": [
    "<H3> Analysis Part 2: Czechia Geopolitical data"
   ]
  },
  {
   "cell_type": "markdown",
   "id": "835924fe-eb51-48ed-8ed8-500d133d5d99",
   "metadata": {},
   "source": [
    "*Czechia is my control country, sort of a baseline, since Czech Wikipedia isn't captured*\n",
    "\n",
    "**2.1: Systems**\n",
    "\n",
    "* economic system (eg \"capitalist\"): Market Economy (from: https://www.cia.gov/the-world-factbook/countries/czechia/) <br>\n",
    "\n",
    "* type of government (eg \"dictatorship\"): Parliamentary Republic (from: https://www.cia.gov/the-world-factbook/countries/czechia/) <br>\n",
    "\n",
    "**2.2: racial, ethnic & religious tensions:** \n",
    "* number of unique ethnic groups & percentages\n",
    "* number of unique religions & percentages \n",
    "* number of unique terrorist groups & names\n",
    "<br>\n",
    "\n",
    "**2.3: education & society:** \n",
    "* literacy rates\n",
    "* school life expectancy\n",
    "* number of internally displaced persons\n",
    "* qualitative: context for any of this\n",
    "<br>\n",
    "\n",
    "**2.4: economic:** \n",
    "* GDP per capita\n",
    "* unemployment rate\n",
    "* percent of population below poverty line \n",
    "<br>\n",
    "\n",
    "**2.5: internet:** \n",
    "* percent of population with internet access \n",
    "<br>\n",
    "\n",
    "**2.6: conflicts/issues:** any ongoing internal or transnational disputes (if there are many, compare the numbers of them)"
   ]
  },
  {
   "cell_type": "code",
   "execution_count": null,
   "id": "9dcf7f0c-767e-48db-94da-510bd8264c81",
   "metadata": {},
   "outputs": [],
   "source": []
  }
 ],
 "metadata": {
  "kernelspec": {
   "display_name": "Python 3 (ipykernel)",
   "language": "python",
   "name": "python3"
  },
  "language_info": {
   "codemirror_mode": {
    "name": "ipython",
    "version": 3
   },
   "file_extension": ".py",
   "mimetype": "text/x-python",
   "name": "python",
   "nbconvert_exporter": "python",
   "pygments_lexer": "ipython3",
   "version": "3.9.7"
  }
 },
 "nbformat": 4,
 "nbformat_minor": 5
}
