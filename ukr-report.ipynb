{
 "cells": [
  {
   "cell_type": "markdown",
   "id": "776607f0-2c53-410d-bf62-faf1e4595fc1",
   "metadata": {},
   "source": [
    "# Disinformation as Propaganda in the Russo-Ukrainian War"
   ]
  },
  {
   "cell_type": "markdown",
   "id": "24a4ddde-9e29-42af-80c7-ee741eb94e06",
   "metadata": {},
   "source": [
    "*Ashlyn B. Aske, June 3, 2022*"
   ]
  },
  {
   "cell_type": "markdown",
   "id": "7efbd49e-a99a-4d8b-8a0c-944d6a8f7b40",
   "metadata": {},
   "source": [
    "## Introduction"
   ]
  },
  {
   "cell_type": "markdown",
   "id": "e0bd8f8c-81f4-4b23-a949-800ec05ed39e",
   "metadata": {},
   "source": [
    "#### About the Data"
   ]
  },
  {
   "cell_type": "markdown",
   "id": "5e4e8336-d660-42d2-8d09-a6cd558c6694",
   "metadata": {},
   "source": [
    "#### Research Question & Hypothesis"
   ]
  },
  {
   "cell_type": "markdown",
   "id": "74d140be-944a-4778-b551-1d1fb55f625e",
   "metadata": {},
   "source": [
    "## Background"
   ]
  },
  {
   "cell_type": "markdown",
   "id": "4dc2750b-d4fa-4ed7-b7d3-56ea07413532",
   "metadata": {},
   "source": [
    "#### Russia-Ukraine relations"
   ]
  },
  {
   "cell_type": "markdown",
   "id": "b8ec0d74-3caa-4098-80ab-4541da272a97",
   "metadata": {},
   "source": [
    "#### Propaganda & Disinformation"
   ]
  },
  {
   "cell_type": "markdown",
   "id": "fb485fbe-b0d5-4cff-9617-1f35b6a68fab",
   "metadata": {},
   "source": [
    "#### Related Work on Disinformation in the Russian War Effort"
   ]
  },
  {
   "cell_type": "markdown",
   "id": "3bfaaa4b-253c-40cc-868d-7dcf4cac9129",
   "metadata": {},
   "source": [
    "## Python Analysis"
   ]
  },
  {
   "cell_type": "markdown",
   "id": "2c9b55b2-5a0f-42b6-a460-74a7641897c1",
   "metadata": {},
   "source": [
    "## Discussion & Conclusion"
   ]
  },
  {
   "cell_type": "markdown",
   "id": "d466bc96-e3f2-47a1-8df1-83211f2f4ac5",
   "metadata": {},
   "source": [
    "#### Implications"
   ]
  },
  {
   "cell_type": "markdown",
   "id": "0bcae26e-a84a-4ace-a081-42cd0b7fb4fd",
   "metadata": {},
   "source": [
    "#### Limitations"
   ]
  },
  {
   "cell_type": "markdown",
   "id": "74a9648a-ed69-4adf-98b2-224c87db5fc6",
   "metadata": {},
   "source": [
    "*For references, please find all sources shown as in-line links*"
   ]
  },
  {
   "cell_type": "code",
   "execution_count": null,
   "id": "ef942c29-0b49-4cfa-88ee-a66c68e8759a",
   "metadata": {},
   "outputs": [],
   "source": []
  }
 ],
 "metadata": {
  "kernelspec": {
   "display_name": "Python 3 (ipykernel)",
   "language": "python",
   "name": "python3"
  },
  "language_info": {
   "codemirror_mode": {
    "name": "ipython",
    "version": 3
   },
   "file_extension": ".py",
   "mimetype": "text/x-python",
   "name": "python",
   "nbconvert_exporter": "python",
   "pygments_lexer": "ipython3",
   "version": "3.9.7"
  }
 },
 "nbformat": 4,
 "nbformat_minor": 5
}
